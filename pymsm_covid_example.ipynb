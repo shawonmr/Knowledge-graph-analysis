{
 "cells": [
  {
   "cell_type": "code",
   "execution_count": 1,
   "id": "99f4b5f2",
   "metadata": {},
   "outputs": [],
   "source": [
    "# Imports\n",
    "import pandas as pd\n",
    "import numpy as np\n",
    "import matplotlib.pyplot as plt\n",
    "\n",
    "from pymsm.datasets import prep_covid_hosp_data\n",
    "from pymsm.multi_state_competing_risks_model import MultiStateModel\n",
    "from pymsm.statistics import (\n",
    "    prob_visited_states,\n",
    "    stats_total_time_at_states,\n",
    "    get_path_frequencies,\n",
    "    path_total_time_at_states\n",
    ")\n",
    "from pymsm.simulation import MultiStateSimulator\n",
    "\n",
    "%load_ext autoreload\n",
    "%autoreload 2"
   ]
  },
  {
   "cell_type": "code",
   "execution_count": 2,
   "id": "aacbb85d",
   "metadata": {},
   "outputs": [
    {
     "name": "stderr",
     "output_type": "stream",
     "text": [
      "100%|█████████████████████████████████████████████████████████████████████████████| 2675/2675 [00:02<00:00, 985.59it/s]\n"
     ]
    },
    {
     "data": {
      "text/html": [
       "<img src=\"https://mermaid.ink/img/c3RhdGVEaWFncmFtLXYyCnMxIDogKDEpIERpc2NoYXJnZWRcUmVjb3ZlcmVkCnMyIDogKDIpIE1pbGQgb3IgTW9kZXJhdGUKczMgOiAoMykgU2V2ZXJlCnM0IDogKDQpIERlY2Vhc2VkCnMxIC0tPiBzMjogOTggCnMxIC0tPiBzMzogMiAKczIgLS0+IHMxOiAyMTM1IApzMiAtLT4gczM6IDI3NSAKczIgLS0+IHM0OiA1MiAKczMgLS0+IHMxOiA5IApzMyAtLT4gczI6IDE5MyAKczMgLS0+IHM0OiAxMzUgCgo=\"/>"
      ],
      "text/plain": [
       "<IPython.core.display.Image object>"
      ]
     },
     "metadata": {},
     "output_type": "display_data"
    }
   ],
   "source": [
    "from pymsm.datasets import prep_covid_hosp_data, plot_covid_hosp\n",
    "dataset, state_labels = prep_covid_hosp_data()\n",
    "plot_covid_hosp(dataset, state_labels)"
   ]
  },
  {
   "cell_type": "code",
   "execution_count": 26,
   "id": "9bbe9ba1",
   "metadata": {},
   "outputs": [
    {
     "name": "stdout",
     "output_type": "stream",
     "text": [
      "<pymsm.multi_state_competing_risks_model.PathObject object at 0x000001C17DCBBBD0>\n"
     ]
    }
   ],
   "source": [
    "print(dataset[0])"
   ]
  },
  {
   "cell_type": "code",
   "execution_count": 3,
   "id": "724de9f1",
   "metadata": {},
   "outputs": [
    {
     "name": "stdout",
     "output_type": "stream",
     "text": [
      "{1: 'Discharged\\\\Recovered', 2: 'Mild or Moderate', 3: 'Severe', 4: 'Deceased'}\n"
     ]
    }
   ],
   "source": [
    "# Some definitions\n",
    "covariate_cols = [\"is_male\", \"age\", \"was_severe\"]\n",
    "terminal_states = [4]\n",
    "state_labels_short = {0: \"C\", 1: \"R\", 2: \"M\", 3: \"S\", 4: \"D\"}\n",
    "print(state_labels)\n"
   ]
  },
  {
   "cell_type": "code",
   "execution_count": 4,
   "id": "ca07fde7",
   "metadata": {},
   "outputs": [
    {
     "name": "stdout",
     "output_type": "stream",
     "text": [
      "Sample id: 577\n",
      "States: [2 3 4]\n",
      "Transition times: [ 6 31]\n",
      "Covariates:\n",
      "is_male        1.0\n",
      "age           72.5\n",
      "was_severe     0.0\n",
      "Name: 567, dtype: float64\n"
     ]
    }
   ],
   "source": [
    "dataset[567].print_path()\n"
   ]
  },
  {
   "cell_type": "code",
   "execution_count": 5,
   "id": "fc519b31",
   "metadata": {},
   "outputs": [
    {
     "name": "stdout",
     "output_type": "stream",
     "text": [
      "M->R                               1906\n",
      "M                                   202\n",
      "M->S                                 76\n",
      "S->D                                 74\n",
      "M->S->D                              59\n",
      "M->S->M->R                           46\n",
      "M->D                                 44\n",
      "M->R->M->R                           42\n",
      "S                                    42\n",
      "M->R->M                              36\n",
      "M->S->M                              35\n",
      "S->M->R                              28\n",
      "S->M                                 27\n",
      "M->S->M->S                            8\n",
      "S->R                                  6\n",
      "S->M->S                               5\n",
      "S->M->S->M->R                         3\n",
      "S->M->D                               3\n",
      "M->S->M->S->M                         3\n",
      "M->S->M->S->M->R                      3\n",
      "M->R->M->R->M->R                      3\n",
      "M->S->R                               3\n",
      "S->M->S->D                            2\n",
      "M->S->M->D                            2\n",
      "M->R->M->S                            2\n",
      "S->M->S->M->S->M                      2\n",
      "M->R->M->D                            2\n",
      "M->R->M->R->M                         2\n",
      "M->R->S                               1\n",
      "M->R->M->R->M->R->M->R->M->R->C       1\n",
      "M->S->M->R->M->R                      1\n",
      "M->R->S->M->R                         1\n",
      "S->M->S->M->S->M->R                   1\n",
      "S->M->S->M->D                         1\n",
      "S->M->R->M                            1\n",
      "M->S->M->S->M->S->M                   1\n",
      "M->S->M->S->M->S                      1\n",
      "dtype: int64\n"
     ]
    }
   ],
   "source": [
    "path_freqs = get_path_frequencies(dataset, state_labels_short)\n",
    "print(path_freqs)\n"
   ]
  },
  {
   "cell_type": "code",
   "execution_count": 6,
   "id": "82df29c2",
   "metadata": {},
   "outputs": [],
   "source": [
    "def covid_update_covariates_function(\n",
    "    covariates_entering_origin_state,\n",
    "    origin_state=None,\n",
    "    target_state=None,\n",
    "    time_at_origin=None,\n",
    "    abs_time_entry_to_target_state=None,\n",
    "):\n",
    "    covariates = covariates_entering_origin_state.copy()\n",
    "\n",
    "    # update is_severe covariate\n",
    "    if origin_state == 3:\n",
    "        covariates['was_severe'] = 1\n",
    "\n",
    "    # # update cum_hosp_tim covariate\n",
    "    # if ((origin_state==2) & (origin_state==3)):\n",
    "    #     covariates[\"cum_hosp_time\"] += time_at_origin\n",
    "\n",
    "    return covariates\n"
   ]
  },
  {
   "cell_type": "code",
   "execution_count": 7,
   "id": "7cb32512",
   "metadata": {},
   "outputs": [
    {
     "name": "stdout",
     "output_type": "stream",
     "text": [
      "Fitting Model at State: 2\n",
      ">>> Fitting Transition to State: 1, n events: 2135\n"
     ]
    },
    {
     "name": "stderr",
     "output_type": "stream",
     "text": [
      "C:\\Users\\u242000\\AppData\\Roaming\\Python\\Python311\\site-packages\\lifelines\\utils\\__init__.py:997: FutureWarning: iteritems is deprecated and will be removed in a future version. Use .items instead.\n",
      "  nonnumeric_cols = [col for (col, dtype) in df.dtypes.iteritems() if dtype.name == \"category\" or dtype.kind not in \"biuf\"]\n"
     ]
    },
    {
     "name": "stdout",
     "output_type": "stream",
     "text": [
      ">>> Fitting Transition to State: 3, n events: 275\n"
     ]
    },
    {
     "name": "stderr",
     "output_type": "stream",
     "text": [
      "C:\\Users\\u242000\\AppData\\Roaming\\Python\\Python311\\site-packages\\lifelines\\utils\\__init__.py:997: FutureWarning: iteritems is deprecated and will be removed in a future version. Use .items instead.\n",
      "  nonnumeric_cols = [col for (col, dtype) in df.dtypes.iteritems() if dtype.name == \"category\" or dtype.kind not in \"biuf\"]\n"
     ]
    },
    {
     "name": "stdout",
     "output_type": "stream",
     "text": [
      ">>> Fitting Transition to State: 4, n events: 52\n",
      "Fitting Model at State: 1\n",
      ">>> Fitting Transition to State: 2, n events: 98\n"
     ]
    },
    {
     "name": "stderr",
     "output_type": "stream",
     "text": [
      "C:\\Users\\u242000\\AppData\\Roaming\\Python\\Python311\\site-packages\\lifelines\\utils\\__init__.py:997: FutureWarning: iteritems is deprecated and will be removed in a future version. Use .items instead.\n",
      "  nonnumeric_cols = [col for (col, dtype) in df.dtypes.iteritems() if dtype.name == \"category\" or dtype.kind not in \"biuf\"]\n",
      "C:\\Users\\u242000\\AppData\\Roaming\\Python\\Python311\\site-packages\\lifelines\\utils\\__init__.py:997: FutureWarning: iteritems is deprecated and will be removed in a future version. Use .items instead.\n",
      "  nonnumeric_cols = [col for (col, dtype) in df.dtypes.iteritems() if dtype.name == \"category\" or dtype.kind not in \"biuf\"]\n"
     ]
    },
    {
     "name": "stdout",
     "output_type": "stream",
     "text": [
      ">>> Fitting Transition to State: 3, n events: 2\n",
      "Fitting Model at State: 3\n",
      ">>> Fitting Transition to State: 2, n events: 193\n",
      ">>> Fitting Transition to State: 1, n events: 9\n"
     ]
    },
    {
     "name": "stderr",
     "output_type": "stream",
     "text": [
      "C:\\Users\\u242000\\AppData\\Roaming\\Python\\Python311\\site-packages\\lifelines\\utils\\__init__.py:997: FutureWarning: iteritems is deprecated and will be removed in a future version. Use .items instead.\n",
      "  nonnumeric_cols = [col for (col, dtype) in df.dtypes.iteritems() if dtype.name == \"category\" or dtype.kind not in \"biuf\"]\n",
      "C:\\Users\\u242000\\AppData\\Roaming\\Python\\Python311\\site-packages\\lifelines\\utils\\__init__.py:1123: ConvergenceWarning: Column is_male have very low variance when conditioned on death event present or not. This may harm convergence. This could be a form of 'complete separation'. For example, try the following code:\n",
      "\n",
      ">>> events = df['target_state'].astype(bool)\n",
      ">>> print(df.loc[events, 'is_male'].var())\n",
      ">>> print(df.loc[~events, 'is_male'].var())\n",
      "\n",
      "A very low variance means that the column is_male completely determines whether a subject dies or not. See https://stats.stackexchange.com/questions/11109/how-to-deal-with-perfect-separation-in-logistic-regression.\n",
      "\n",
      "  warnings.warn(dedent(warning_text), ConvergenceWarning)\n",
      "C:\\Users\\u242000\\AppData\\Roaming\\Python\\Python311\\site-packages\\lifelines\\utils\\__init__.py:1157: FutureWarning: iteritems is deprecated and will be removed in a future version. Use .items instead.\n",
      "  for col, series in df.iteritems():\n",
      "C:\\Users\\u242000\\AppData\\Roaming\\Python\\Python311\\site-packages\\lifelines\\fitters\\coxph_fitter.py:1594: ConvergenceWarning: Newton-Rhaphson convergence completed successfully but norm(delta) is still high, 0.537. This may imply non-unique solutions to the maximum likelihood. Perhaps there is collinearity or complete separation in the dataset?\n",
      "\n",
      "  warnings.warn(\n",
      "C:\\Users\\u242000\\AppData\\Roaming\\Python\\Python311\\site-packages\\lifelines\\utils\\__init__.py:997: FutureWarning: iteritems is deprecated and will be removed in a future version. Use .items instead.\n",
      "  nonnumeric_cols = [col for (col, dtype) in df.dtypes.iteritems() if dtype.name == \"category\" or dtype.kind not in \"biuf\"]\n",
      "C:\\Users\\u242000\\AppData\\Roaming\\Python\\Python311\\site-packages\\lifelines\\utils\\__init__.py:997: FutureWarning: iteritems is deprecated and will be removed in a future version. Use .items instead.\n",
      "  nonnumeric_cols = [col for (col, dtype) in df.dtypes.iteritems() if dtype.name == \"category\" or dtype.kind not in \"biuf\"]\n",
      "C:\\Users\\u242000\\AppData\\Roaming\\Python\\Python311\\site-packages\\lifelines\\utils\\__init__.py:1123: ConvergenceWarning: Column was_severe have very low variance when conditioned on death event present or not. This may harm convergence. This could be a form of 'complete separation'. For example, try the following code:\n",
      "\n",
      ">>> events = df['target_state'].astype(bool)\n",
      ">>> print(df.loc[events, 'was_severe'].var())\n",
      ">>> print(df.loc[~events, 'was_severe'].var())\n",
      "\n",
      "A very low variance means that the column was_severe completely determines whether a subject dies or not. See https://stats.stackexchange.com/questions/11109/how-to-deal-with-perfect-separation-in-logistic-regression.\n",
      "\n",
      "  warnings.warn(dedent(warning_text), ConvergenceWarning)\n",
      "C:\\Users\\u242000\\AppData\\Roaming\\Python\\Python311\\site-packages\\lifelines\\utils\\__init__.py:1157: FutureWarning: iteritems is deprecated and will be removed in a future version. Use .items instead.\n",
      "  for col, series in df.iteritems():\n",
      "C:\\Users\\u242000\\AppData\\Roaming\\Python\\Python311\\site-packages\\lifelines\\fitters\\coxph_fitter.py:1594: ConvergenceWarning: Newton-Rhaphson convergence completed successfully but norm(delta) is still high, 0.262. This may imply non-unique solutions to the maximum likelihood. Perhaps there is collinearity or complete separation in the dataset?\n",
      "\n",
      "  warnings.warn(\n"
     ]
    },
    {
     "name": "stdout",
     "output_type": "stream",
     "text": [
      ">>> Fitting Transition to State: 4, n events: 135\n"
     ]
    },
    {
     "name": "stderr",
     "output_type": "stream",
     "text": [
      "C:\\Users\\u242000\\AppData\\Roaming\\Python\\Python311\\site-packages\\lifelines\\utils\\__init__.py:997: FutureWarning: iteritems is deprecated and will be removed in a future version. Use .items instead.\n",
      "  nonnumeric_cols = [col for (col, dtype) in df.dtypes.iteritems() if dtype.name == \"category\" or dtype.kind not in \"biuf\"]\n"
     ]
    },
    {
     "data": {
      "text/html": [
       "<img src=\"https://mermaid.ink/img/c3RhdGVEaWFncmFtLXYyCnMxIDogKDEpIERpc2NoYXJnZWRcUmVjb3ZlcmVkCnMyIDogKDIpIE1pbGQgb3IgTW9kZXJhdGUKczMgOiAoMykgU2V2ZXJlCnM0IDogKDQpIERlY2Vhc2VkCnMxIC0tPiBzMjogOTggCnMxIC0tPiBzMzogMiAKczIgLS0+IHMxOiAyMTM1IApzMiAtLT4gczM6IDI3NSAKczIgLS0+IHM0OiA1MiAKczMgLS0+IHMxOiA5IApzMyAtLT4gczI6IDE5MyAKczMgLS0+IHM0OiAxMzUgCgo=\"/>"
      ],
      "text/plain": [
       "<IPython.core.display.Image object>"
      ]
     },
     "metadata": {},
     "output_type": "display_data"
    }
   ],
   "source": [
    "multi_state_model = MultiStateModel(\n",
    "    dataset=dataset,\n",
    "    terminal_states=terminal_states,\n",
    "    update_covariates_fn=covid_update_covariates_function,\n",
    "    covariate_names=covariate_cols,\n",
    "    state_labels=state_labels,\n",
    ")\n",
    "multi_state_model.fit()\n"
   ]
  },
  {
   "cell_type": "code",
   "execution_count": 8,
   "id": "21fa2211",
   "metadata": {},
   "outputs": [
    {
     "data": {
      "text/html": [
       "<div>\n",
       "<style scoped>\n",
       "    .dataframe tbody tr th:only-of-type {\n",
       "        vertical-align: middle;\n",
       "    }\n",
       "\n",
       "    .dataframe tbody tr th {\n",
       "        vertical-align: top;\n",
       "    }\n",
       "\n",
       "    .dataframe thead th {\n",
       "        text-align: right;\n",
       "    }\n",
       "</style>\n",
       "<table border=\"1\" class=\"dataframe\">\n",
       "  <thead>\n",
       "    <tr style=\"text-align: right;\">\n",
       "      <th>target_state</th>\n",
       "      <th>Censored</th>\n",
       "      <th>Discharged\\Recovered</th>\n",
       "      <th>Mild or Moderate</th>\n",
       "      <th>Severe</th>\n",
       "      <th>Deceased</th>\n",
       "    </tr>\n",
       "    <tr>\n",
       "      <th>origin_state</th>\n",
       "      <th></th>\n",
       "      <th></th>\n",
       "      <th></th>\n",
       "      <th></th>\n",
       "      <th></th>\n",
       "    </tr>\n",
       "  </thead>\n",
       "  <tbody>\n",
       "    <tr>\n",
       "      <th>Discharged\\Recovered</th>\n",
       "      <td>2044</td>\n",
       "      <td>0</td>\n",
       "      <td>98</td>\n",
       "      <td>2</td>\n",
       "      <td>0</td>\n",
       "    </tr>\n",
       "    <tr>\n",
       "      <th>Mild or Moderate</th>\n",
       "      <td>309</td>\n",
       "      <td>2135</td>\n",
       "      <td>0</td>\n",
       "      <td>275</td>\n",
       "      <td>52</td>\n",
       "    </tr>\n",
       "    <tr>\n",
       "      <th>Severe</th>\n",
       "      <td>135</td>\n",
       "      <td>9</td>\n",
       "      <td>193</td>\n",
       "      <td>0</td>\n",
       "      <td>135</td>\n",
       "    </tr>\n",
       "  </tbody>\n",
       "</table>\n",
       "</div>"
      ],
      "text/plain": [
       "target_state          Censored  Discharged\\Recovered  Mild or Moderate  \\\n",
       "origin_state                                                             \n",
       "Discharged\\Recovered      2044                     0                98   \n",
       "Mild or Moderate           309                  2135                 0   \n",
       "Severe                     135                     9               193   \n",
       "\n",
       "target_state          Severe  Deceased  \n",
       "origin_state                            \n",
       "Discharged\\Recovered       2         0  \n",
       "Mild or Moderate         275        52  \n",
       "Severe                     0       135  "
      ]
     },
     "execution_count": 8,
     "metadata": {},
     "output_type": "execute_result"
    }
   ],
   "source": [
    "multi_state_model.transition_table\n"
   ]
  },
  {
   "cell_type": "code",
   "execution_count": 9,
   "id": "680eb966",
   "metadata": {
    "collapsed": true
   },
   "outputs": [
    {
     "name": "stdout",
     "output_type": "stream",
     "text": [
      "Fitting Model at State: 2\n",
      ">>> Fitting Transition to State: 1, n events: 2135\n"
     ]
    },
    {
     "name": "stderr",
     "output_type": "stream",
     "text": [
      "C:\\Users\\u242000\\AppData\\Roaming\\Python\\Python311\\site-packages\\lifelines\\utils\\__init__.py:997: FutureWarning: iteritems is deprecated and will be removed in a future version. Use .items instead.\n",
      "  nonnumeric_cols = [col for (col, dtype) in df.dtypes.iteritems() if dtype.name == \"category\" or dtype.kind not in \"biuf\"]\n"
     ]
    },
    {
     "name": "stdout",
     "output_type": "stream",
     "text": [
      ">>> Fitting Transition to State: 3, n events: 275\n"
     ]
    },
    {
     "name": "stderr",
     "output_type": "stream",
     "text": [
      "C:\\Users\\u242000\\AppData\\Roaming\\Python\\Python311\\site-packages\\lifelines\\utils\\__init__.py:997: FutureWarning: iteritems is deprecated and will be removed in a future version. Use .items instead.\n",
      "  nonnumeric_cols = [col for (col, dtype) in df.dtypes.iteritems() if dtype.name == \"category\" or dtype.kind not in \"biuf\"]\n"
     ]
    },
    {
     "name": "stdout",
     "output_type": "stream",
     "text": [
      ">>> Fitting Transition to State: 4, n events: 52\n",
      "Fitting Model at State: 1\n",
      ">>> Fitting Transition to State: 2, n events: 98\n"
     ]
    },
    {
     "name": "stderr",
     "output_type": "stream",
     "text": [
      "C:\\Users\\u242000\\AppData\\Roaming\\Python\\Python311\\site-packages\\lifelines\\utils\\__init__.py:997: FutureWarning: iteritems is deprecated and will be removed in a future version. Use .items instead.\n",
      "  nonnumeric_cols = [col for (col, dtype) in df.dtypes.iteritems() if dtype.name == \"category\" or dtype.kind not in \"biuf\"]\n",
      "C:\\Users\\u242000\\AppData\\Roaming\\Python\\Python311\\site-packages\\lifelines\\utils\\__init__.py:997: FutureWarning: iteritems is deprecated and will be removed in a future version. Use .items instead.\n",
      "  nonnumeric_cols = [col for (col, dtype) in df.dtypes.iteritems() if dtype.name == \"category\" or dtype.kind not in \"biuf\"]\n"
     ]
    },
    {
     "name": "stdout",
     "output_type": "stream",
     "text": [
      "Fitting Model at State: 3\n",
      ">>> Fitting Transition to State: 2, n events: 193\n",
      ">>> Fitting Transition to State: 4, n events: 135\n"
     ]
    },
    {
     "name": "stderr",
     "output_type": "stream",
     "text": [
      "C:\\Users\\u242000\\AppData\\Roaming\\Python\\Python311\\site-packages\\lifelines\\utils\\__init__.py:997: FutureWarning: iteritems is deprecated and will be removed in a future version. Use .items instead.\n",
      "  nonnumeric_cols = [col for (col, dtype) in df.dtypes.iteritems() if dtype.name == \"category\" or dtype.kind not in \"biuf\"]\n",
      "C:\\Users\\u242000\\AppData\\Roaming\\Python\\Python311\\site-packages\\lifelines\\utils\\__init__.py:997: FutureWarning: iteritems is deprecated and will be removed in a future version. Use .items instead.\n",
      "  nonnumeric_cols = [col for (col, dtype) in df.dtypes.iteritems() if dtype.name == \"category\" or dtype.kind not in \"biuf\"]\n"
     ]
    },
    {
     "data": {
      "text/html": [
       "<img src=\"https://mermaid.ink/img/c3RhdGVEaWFncmFtLXYyCnMxIDogKDEpIERpc2NoYXJnZWRcUmVjb3ZlcmVkCnMyIDogKDIpIE1pbGQgb3IgTW9kZXJhdGUKczMgOiAoMykgU2V2ZXJlCnM0IDogKDQpIERlY2Vhc2VkCnMxIC0tPiBzMjogOTggCnMyIC0tPiBzMTogMjEzNSAKczIgLS0+IHMzOiAyNzUgCnMyIC0tPiBzNDogNTIgCnMzIC0tPiBzMjogMTkzIApzMyAtLT4gczQ6IDEzNSAKCg==\"/>"
      ],
      "text/plain": [
       "<IPython.core.display.Image object>"
      ]
     },
     "metadata": {},
     "output_type": "display_data"
    }
   ],
   "source": [
    "multi_state_model = MultiStateModel(\n",
    "    dataset=dataset,\n",
    "    terminal_states=terminal_states,\n",
    "    update_covariates_fn=covid_update_covariates_function,\n",
    "    covariate_names=covariate_cols,\n",
    "    state_labels=state_labels,\n",
    "    trim_transitions_threshold=10\n",
    ")\n",
    "multi_state_model.fit()\n"
   ]
  },
  {
   "cell_type": "code",
   "execution_count": 11,
   "id": "bc7a5bf0",
   "metadata": {},
   "outputs": [
    {
     "data": {
      "text/html": [
       "<div>\n",
       "<style scoped>\n",
       "    .dataframe tbody tr th:only-of-type {\n",
       "        vertical-align: middle;\n",
       "    }\n",
       "\n",
       "    .dataframe tbody tr th {\n",
       "        vertical-align: top;\n",
       "    }\n",
       "\n",
       "    .dataframe thead th {\n",
       "        text-align: right;\n",
       "    }\n",
       "</style>\n",
       "<table border=\"1\" class=\"dataframe\">\n",
       "  <thead>\n",
       "    <tr style=\"text-align: right;\">\n",
       "      <th>target_state</th>\n",
       "      <th>Censored</th>\n",
       "      <th>Discharged\\Recovered</th>\n",
       "      <th>Mild or Moderate</th>\n",
       "      <th>Severe</th>\n",
       "      <th>Deceased</th>\n",
       "    </tr>\n",
       "    <tr>\n",
       "      <th>origin_state</th>\n",
       "      <th></th>\n",
       "      <th></th>\n",
       "      <th></th>\n",
       "      <th></th>\n",
       "      <th></th>\n",
       "    </tr>\n",
       "  </thead>\n",
       "  <tbody>\n",
       "    <tr>\n",
       "      <th>Discharged\\Recovered</th>\n",
       "      <td>2044</td>\n",
       "      <td>0</td>\n",
       "      <td>98</td>\n",
       "      <td>0</td>\n",
       "      <td>0</td>\n",
       "    </tr>\n",
       "    <tr>\n",
       "      <th>Mild or Moderate</th>\n",
       "      <td>309</td>\n",
       "      <td>2135</td>\n",
       "      <td>0</td>\n",
       "      <td>275</td>\n",
       "      <td>52</td>\n",
       "    </tr>\n",
       "    <tr>\n",
       "      <th>Severe</th>\n",
       "      <td>135</td>\n",
       "      <td>0</td>\n",
       "      <td>193</td>\n",
       "      <td>0</td>\n",
       "      <td>135</td>\n",
       "    </tr>\n",
       "  </tbody>\n",
       "</table>\n",
       "</div>"
      ],
      "text/plain": [
       "target_state          Censored  Discharged\\Recovered  Mild or Moderate  \\\n",
       "origin_state                                                             \n",
       "Discharged\\Recovered      2044                     0                98   \n",
       "Mild or Moderate           309                  2135                 0   \n",
       "Severe                     135                     0               193   \n",
       "\n",
       "target_state          Severe  Deceased  \n",
       "origin_state                            \n",
       "Discharged\\Recovered       0         0  \n",
       "Mild or Moderate         275        52  \n",
       "Severe                     0       135  "
      ]
     },
     "execution_count": 11,
     "metadata": {},
     "output_type": "execute_result"
    }
   ],
   "source": [
    "multi_state_model.transition_table\n"
   ]
  },
  {
   "cell_type": "code",
   "execution_count": 12,
   "id": "435473eb",
   "metadata": {},
   "outputs": [
    {
     "name": "stderr",
     "output_type": "stream",
     "text": [
      "100%|████████████████████████████████████████████████████████████████████████████████| 100/100 [00:27<00:00,  3.60it/s]\n"
     ]
    }
   ],
   "source": [
    "# Run MC for a sample single patient\n",
    "mc_paths = multi_state_model.run_monte_carlo_simulation(\n",
    "    sample_covariates=pd.Series({\"is_male\":0, \"age\":75, \"was_severe\":0}),\n",
    "    origin_state=2,\n",
    "    current_time=0,\n",
    "    n_random_samples=100,\n",
    "    max_transitions=10,\n",
    "    print_paths=False,\n",
    "    n_jobs=-1\n",
    ")\n"
   ]
  },
  {
   "cell_type": "code",
   "execution_count": 17,
   "id": "c94643c4",
   "metadata": {},
   "outputs": [
    {
     "name": "stdout",
     "output_type": "stream",
     "text": [
      "Probabilty of ever being Discharged\\Recovered = 0.05\n",
      "Probabilty of ever being Mild or Moderate = 1.0\n",
      "Probabilty of ever being Severe = 0.28\n",
      "Probabilty of ever being Deceased = 1.0\n"
     ]
    },
    {
     "data": {
      "text/html": [
       "<div>\n",
       "<style scoped>\n",
       "    .dataframe tbody tr th:only-of-type {\n",
       "        vertical-align: middle;\n",
       "    }\n",
       "\n",
       "    .dataframe tbody tr th {\n",
       "        vertical-align: top;\n",
       "    }\n",
       "\n",
       "    .dataframe thead th {\n",
       "        text-align: right;\n",
       "    }\n",
       "</style>\n",
       "<table border=\"1\" class=\"dataframe\">\n",
       "  <thead>\n",
       "    <tr style=\"text-align: right;\">\n",
       "      <th></th>\n",
       "      <th>Discharged\\Recovered</th>\n",
       "      <th>Mild or Moderate</th>\n",
       "      <th>Severe</th>\n",
       "    </tr>\n",
       "  </thead>\n",
       "  <tbody>\n",
       "    <tr>\n",
       "      <th>time_in_state_mean</th>\n",
       "      <td>2.200</td>\n",
       "      <td>3.780</td>\n",
       "      <td>0.580</td>\n",
       "    </tr>\n",
       "    <tr>\n",
       "      <th>time_in_state_std</th>\n",
       "      <td>10.882</td>\n",
       "      <td>2.047</td>\n",
       "      <td>1.423</td>\n",
       "    </tr>\n",
       "    <tr>\n",
       "      <th>time_in_state_median</th>\n",
       "      <td>0.000</td>\n",
       "      <td>3.000</td>\n",
       "      <td>0.000</td>\n",
       "    </tr>\n",
       "    <tr>\n",
       "      <th>time_in_state_min</th>\n",
       "      <td>0.000</td>\n",
       "      <td>1.000</td>\n",
       "      <td>0.000</td>\n",
       "    </tr>\n",
       "    <tr>\n",
       "      <th>time_in_state_max</th>\n",
       "      <td>72.000</td>\n",
       "      <td>12.000</td>\n",
       "      <td>8.000</td>\n",
       "    </tr>\n",
       "    <tr>\n",
       "      <th>time_in_state_quantile_0.1</th>\n",
       "      <td>0.000</td>\n",
       "      <td>2.000</td>\n",
       "      <td>0.000</td>\n",
       "    </tr>\n",
       "    <tr>\n",
       "      <th>time_in_state_quantile_0.25</th>\n",
       "      <td>0.000</td>\n",
       "      <td>2.000</td>\n",
       "      <td>0.000</td>\n",
       "    </tr>\n",
       "    <tr>\n",
       "      <th>time_in_state_quantile_0.75</th>\n",
       "      <td>0.000</td>\n",
       "      <td>4.250</td>\n",
       "      <td>0.000</td>\n",
       "    </tr>\n",
       "    <tr>\n",
       "      <th>time_in_state_quantile_0.9</th>\n",
       "      <td>0.000</td>\n",
       "      <td>7.000</td>\n",
       "      <td>2.000</td>\n",
       "    </tr>\n",
       "  </tbody>\n",
       "</table>\n",
       "</div>"
      ],
      "text/plain": [
       "                             Discharged\\Recovered  Mild or Moderate  Severe\n",
       "time_in_state_mean                          2.200             3.780   0.580\n",
       "time_in_state_std                          10.882             2.047   1.423\n",
       "time_in_state_median                        0.000             3.000   0.000\n",
       "time_in_state_min                           0.000             1.000   0.000\n",
       "time_in_state_max                          72.000            12.000   8.000\n",
       "time_in_state_quantile_0.1                  0.000             2.000   0.000\n",
       "time_in_state_quantile_0.25                 0.000             2.000   0.000\n",
       "time_in_state_quantile_0.75                 0.000             4.250   0.000\n",
       "time_in_state_quantile_0.9                  0.000             7.000   2.000"
      ]
     },
     "execution_count": 17,
     "metadata": {},
     "output_type": "execute_result"
    }
   ],
   "source": [
    "# Probability of visiting any of the states\n",
    "for state, state_label in state_labels.items():\n",
    "    if state == 0:\n",
    "        continue\n",
    "    print(\n",
    "        f\"Probabilty of ever being {state_label} = {prob_visited_states(mc_paths, states=[state])}\"\n",
    "    )\n",
    "\n",
    "\n",
    "# Stats for times at states\n",
    "dfs = []\n",
    "for state, state_label in state_labels.items():\n",
    "    if state == 0 or state in terminal_states:\n",
    "        continue\n",
    "    dfs.append(\n",
    "        pd.DataFrame(\n",
    "            data=stats_total_time_at_states(mc_paths, states=[state]),\n",
    "            index=[state_label],\n",
    "        )\n",
    "    )\n",
    "pd.concat(dfs).round(3).T\n"
   ]
  },
  {
   "cell_type": "code",
   "execution_count": 18,
   "id": "a0f175c9",
   "metadata": {},
   "outputs": [
    {
     "data": {
      "text/plain": [
       "Mild or Moderate->Deceased                                             67\n",
       "Mild or Moderate->Severe->Deceased                                     28\n",
       "Mild or Moderate->Discharged\\\\Recovered->Mild or Moderate->Deceased     5\n",
       "dtype: int64"
      ]
     },
     "execution_count": 18,
     "metadata": {},
     "output_type": "execute_result"
    }
   ],
   "source": [
    "path_freqs = get_path_frequencies(mc_paths, state_labels)\n",
    "path_freqs.head(10)\n"
   ]
  },
  {
   "cell_type": "code",
   "execution_count": 19,
   "id": "d703d5c7",
   "metadata": {},
   "outputs": [
    {
     "data": {
      "text/plain": [
       "Mild or Moderate->Deceased                                             67\n",
       "Mild or Moderate->Severe->Deceased                                     28\n",
       "Mild or Moderate->Discharged\\\\Recovered->Mild or Moderate->Deceased     5\n",
       "dtype: int64"
      ]
     },
     "execution_count": 19,
     "metadata": {},
     "output_type": "execute_result"
    }
   ],
   "source": [
    "path_freqs = get_path_frequencies(mc_paths, state_labels)\n",
    "path_freqs.head(10)\n"
   ]
  },
  {
   "cell_type": "code",
   "execution_count": 20,
   "id": "d97d9fb3",
   "metadata": {},
   "outputs": [
    {
     "data": {
      "image/png": "[encoded data removed]",
      "text/plain": [
       "<Figure size 1000x500 with 1 Axes>"
      ]
     },
     "metadata": {},
     "output_type": "display_data"
    }
   ],
   "source": [
    "los = np.array([path_total_time_at_states(path, states = [2,3]) for path in mc_paths])\n",
    "\n",
    "fig, ax = plt.subplots(1,1, figsize=(10,5))\n",
    "ax.plot(np.sort(los), np.linspace(0, 1, len(los), endpoint=False), lw=5)\n",
    "# ax.set_xlim(0,20)\n",
    "ax.set_ylabel('CDF of Length of Stay')\n",
    "ax.set_xlabel('Days');\n"
   ]
  },
  {
   "cell_type": "code",
   "execution_count": 21,
   "id": "bd510da0",
   "metadata": {},
   "outputs": [
    {
     "name": "stderr",
     "output_type": "stream",
     "text": [
      "100%|████████████████████████████████████████████████████████████████████████████████| 100/100 [00:27<00:00,  3.64it/s]\n"
     ]
    }
   ],
   "source": [
    "# Run MC for a sample single patient\n",
    "mc_paths_severe = multi_state_model.run_monte_carlo_simulation(\n",
    "    sample_covariates=pd.Series({\"is_male\":0, \"age\":75, \"was_severe\": 1}),\n",
    "    origin_state=3,\n",
    "    current_time=2,\n",
    "    n_random_samples=100,\n",
    "    max_transitions=10,\n",
    "    print_paths=False,\n",
    "    n_jobs=-1\n",
    ")\n"
   ]
  },
  {
   "cell_type": "code",
   "execution_count": 22,
   "id": "42509262",
   "metadata": {},
   "outputs": [
    {
     "name": "stdout",
     "output_type": "stream",
     "text": [
      "Probabilty of ever being Discharged\\Recovered = 0.0\n",
      "Probabilty of ever being Mild or Moderate = 0.04\n",
      "Probabilty of ever being Severe = 1.0\n",
      "Probabilty of ever being Deceased = 1.0\n"
     ]
    },
    {
     "data": {
      "text/html": [
       "<div>\n",
       "<style scoped>\n",
       "    .dataframe tbody tr th:only-of-type {\n",
       "        vertical-align: middle;\n",
       "    }\n",
       "\n",
       "    .dataframe tbody tr th {\n",
       "        vertical-align: top;\n",
       "    }\n",
       "\n",
       "    .dataframe thead th {\n",
       "        text-align: right;\n",
       "    }\n",
       "</style>\n",
       "<table border=\"1\" class=\"dataframe\">\n",
       "  <thead>\n",
       "    <tr style=\"text-align: right;\">\n",
       "      <th></th>\n",
       "      <th>Discharged\\Recovered</th>\n",
       "      <th>Mild or Moderate</th>\n",
       "      <th>Severe</th>\n",
       "    </tr>\n",
       "  </thead>\n",
       "  <tbody>\n",
       "    <tr>\n",
       "      <th>time_in_state_mean</th>\n",
       "      <td>0.0</td>\n",
       "      <td>0.060</td>\n",
       "      <td>6.210</td>\n",
       "    </tr>\n",
       "    <tr>\n",
       "      <th>time_in_state_std</th>\n",
       "      <td>0.0</td>\n",
       "      <td>0.341</td>\n",
       "      <td>6.962</td>\n",
       "    </tr>\n",
       "    <tr>\n",
       "      <th>time_in_state_median</th>\n",
       "      <td>0.0</td>\n",
       "      <td>0.000</td>\n",
       "      <td>4.000</td>\n",
       "    </tr>\n",
       "    <tr>\n",
       "      <th>time_in_state_min</th>\n",
       "      <td>0.0</td>\n",
       "      <td>0.000</td>\n",
       "      <td>0.000</td>\n",
       "    </tr>\n",
       "    <tr>\n",
       "      <th>time_in_state_max</th>\n",
       "      <td>0.0</td>\n",
       "      <td>3.000</td>\n",
       "      <td>35.000</td>\n",
       "    </tr>\n",
       "    <tr>\n",
       "      <th>time_in_state_quantile_0.1</th>\n",
       "      <td>0.0</td>\n",
       "      <td>0.000</td>\n",
       "      <td>0.000</td>\n",
       "    </tr>\n",
       "    <tr>\n",
       "      <th>time_in_state_quantile_0.25</th>\n",
       "      <td>0.0</td>\n",
       "      <td>0.000</td>\n",
       "      <td>1.000</td>\n",
       "    </tr>\n",
       "    <tr>\n",
       "      <th>time_in_state_quantile_0.75</th>\n",
       "      <td>0.0</td>\n",
       "      <td>0.000</td>\n",
       "      <td>7.250</td>\n",
       "    </tr>\n",
       "    <tr>\n",
       "      <th>time_in_state_quantile_0.9</th>\n",
       "      <td>0.0</td>\n",
       "      <td>0.000</td>\n",
       "      <td>15.400</td>\n",
       "    </tr>\n",
       "  </tbody>\n",
       "</table>\n",
       "</div>"
      ],
      "text/plain": [
       "                             Discharged\\Recovered  Mild or Moderate  Severe\n",
       "time_in_state_mean                            0.0             0.060   6.210\n",
       "time_in_state_std                             0.0             0.341   6.962\n",
       "time_in_state_median                          0.0             0.000   4.000\n",
       "time_in_state_min                             0.0             0.000   0.000\n",
       "time_in_state_max                             0.0             3.000  35.000\n",
       "time_in_state_quantile_0.1                    0.0             0.000   0.000\n",
       "time_in_state_quantile_0.25                   0.0             0.000   1.000\n",
       "time_in_state_quantile_0.75                   0.0             0.000   7.250\n",
       "time_in_state_quantile_0.9                    0.0             0.000  15.400"
      ]
     },
     "execution_count": 22,
     "metadata": {},
     "output_type": "execute_result"
    }
   ],
   "source": [
    "# Probability of visiting any of the states\n",
    "for state, state_label in state_labels.items():\n",
    "    if state == 0:\n",
    "        continue\n",
    "    print(\n",
    "        f\"Probabilty of ever being {state_label} = {prob_visited_states(mc_paths_severe, states=[state])}\"\n",
    "    )\n",
    "\n",
    "\n",
    "# Stats for times at states\n",
    "dfs = []\n",
    "for state, state_label in state_labels.items():\n",
    "    if state == 0 or state in terminal_states:\n",
    "        continue\n",
    "    dfs.append(\n",
    "        pd.DataFrame(\n",
    "            data=stats_total_time_at_states(mc_paths_severe, states=[state]),\n",
    "            index=[state_label],\n",
    "        )\n",
    "    )\n",
    "pd.concat(dfs).round(3).T\n"
   ]
  },
  {
   "cell_type": "code",
   "execution_count": 23,
   "id": "3cdab2b6",
   "metadata": {},
   "outputs": [
    {
     "name": "stdout",
     "output_type": "stream",
     "text": [
      "2 1 <pymsm.competing_risks_model.EventSpecificModel object at 0x000001C17E067B10>\n",
      "2 3 <pymsm.competing_risks_model.EventSpecificModel object at 0x000001C17E5E1850>\n",
      "2 4 <pymsm.competing_risks_model.EventSpecificModel object at 0x000001C17DBD9510>\n",
      "1 2 <pymsm.competing_risks_model.EventSpecificModel object at 0x000001C17E06FF90>\n",
      "3 2 <pymsm.competing_risks_model.EventSpecificModel object at 0x000001C17E0BD110>\n",
      "3 4 <pymsm.competing_risks_model.EventSpecificModel object at 0x000001C17BB43290>\n"
     ]
    }
   ],
   "source": [
    "from pymsm.simulation import extract_competing_risks_models_list_from_msm\n",
    "\n",
    "competing_risks_models_list = extract_competing_risks_models_list_from_msm(\n",
    "    multi_state_model, verbose=True\n",
    ")\n",
    "\n",
    "# Configure the simulator\n",
    "mssim = MultiStateSimulator(\n",
    "    competing_risks_models_list,\n",
    "    terminal_states=[5, 6],\n",
    "    update_covariates_fn=covid_update_covariates_function,\n",
    "    covariate_names=covariate_cols,\n",
    "    state_labels=state_labels,\n",
    ")\n"
   ]
  },
  {
   "cell_type": "code",
   "execution_count": 24,
   "id": "ba81aed5",
   "metadata": {},
   "outputs": [
    {
     "name": "stderr",
     "output_type": "stream",
     "text": [
      "100%|██████████████████████████████████████████████████████████████████████████████████| 5/5 [00:00<00:00, 5151.44it/s]\n"
     ]
    },
    {
     "name": "stdout",
     "output_type": "stream",
     "text": [
      "States: [3, 4]\n",
      "Transition times: [2.000092969765234]\n",
      "\n",
      "\n",
      "States: [3, 4]\n",
      "Transition times: [6.451727904099869e-05]\n",
      "\n",
      "\n",
      "States: [3, 4]\n",
      "Transition times: [3.000078961814279]\n",
      "\n",
      "\n",
      "States: [3, 4]\n",
      "Transition times: [5.683086033370088e-05]\n",
      "\n",
      "\n",
      "States: [3, 4]\n",
      "Transition times: [6.451727904099869e-05]\n",
      "\n",
      "\n"
     ]
    }
   ],
   "source": [
    "# Run MC for a sample single patient\n",
    "sim_paths = multi_state_model.run_monte_carlo_simulation(\n",
    "    sample_covariates=pd.Series({\"is_male\":0, \"age\":75, \"was_severe\": 0}),\n",
    "    origin_state=3,\n",
    "    current_time=2,\n",
    "    n_random_samples=5,\n",
    "    max_transitions=10,\n",
    "    print_paths=True,\n",
    "    n_jobs=-1\n",
    ")\n"
   ]
  },
  {
   "cell_type": "code",
   "execution_count": null,
   "id": "01cbdd7c",
   "metadata": {},
   "outputs": [],
   "source": []
  }
 ],
 "metadata": {
  "kernelspec": {
   "display_name": "Python 3 (ipykernel)",
   "language": "python",
   "name": "python3"
  },
  "language_info": {
   "codemirror_mode": {
    "name": "ipython",
    "version": 3
   },
   "file_extension": ".py",
   "mimetype": "text/x-python",
   "name": "python",
   "nbconvert_exporter": "python",
   "pygments_lexer": "ipython3",
   "version": "3.11.5"
  }
 },
 "nbformat": 4,
 "nbformat_minor": 5
}
